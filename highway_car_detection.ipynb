{
 "cells": [
  {
   "cell_type": "markdown",
   "metadata": {},
   "source": [
    "## Highway Vehicles Detection"
   ]
  },
  {
   "cell_type": "code",
   "execution_count": 1,
   "metadata": {},
   "outputs": [],
   "source": [
    "import cv2\n",
    "import numpy as np"
   ]
  },
  {
   "cell_type": "code",
   "execution_count": 4,
   "metadata": {},
   "outputs": [],
   "source": [
    "cap = cv2.VideoCapture('D:\\Data Analytics for Business\\Keras learning\\Open cv object detection\\highway.mp4')\n",
    "\n",
    "detection = cv2.createBackgroundSubtractorMOG2(history=100,varThreshold=50)\n",
    "\n",
    "while True:\n",
    "    ind,frame = cap.read()\n",
    "\n",
    "    roi = frame[400:720,200:850]\n",
    "    det = detection.apply(roi)\n",
    "    _,det = cv2.threshold(det,254,255,cv2.THRESH_BINARY)\n",
    "\n",
    "    countours,_ = cv2.findContours(det,cv2.RETR_TREE,cv2.CHAIN_APPROX_SIMPLE)\n",
    "\n",
    "    for cnt in countours:\n",
    "        area = cv2.contourArea(cnt)\n",
    "        if area > 100:\n",
    "            # cv2.drawContours(roi,cnt,-1,(0,255,0),2)\n",
    "            x,y,w,h = cv2.boundingRect(cnt)\n",
    "            cv2.rectangle(roi,(x,y),(x+w,y+h),(255,0,0),2)\n",
    "\n",
    "    # Calculating reagion of interest \n",
    "    cv2.imshow('frame',frame)\n",
    "    # cv2.imshow('ROI',roi)\n",
    "\n",
    "    cv2.imshow('detection',det)\n",
    "\n",
    "    key = cv2.waitKey(30)\n",
    "    if key==27:\n",
    "        break\n",
    "\n",
    "cap.release()\n",
    "cv2.destroyAllWindows()\n",
    "\n"
   ]
  }
 ],
 "metadata": {
  "interpreter": {
   "hash": "40981e795568ba608bfc9fb135b1c2210a401a04dff3be53f6a9ae1a4393667d"
  },
  "kernelspec": {
   "display_name": "Python 3.8.12 64-bit (conda)",
   "language": "python",
   "name": "python3"
  },
  "language_info": {
   "codemirror_mode": {
    "name": "ipython",
    "version": 3
   },
   "file_extension": ".py",
   "mimetype": "text/x-python",
   "name": "python",
   "nbconvert_exporter": "python",
   "pygments_lexer": "ipython3",
   "version": "3.8.12"
  },
  "orig_nbformat": 4
 },
 "nbformat": 4,
 "nbformat_minor": 2
}
